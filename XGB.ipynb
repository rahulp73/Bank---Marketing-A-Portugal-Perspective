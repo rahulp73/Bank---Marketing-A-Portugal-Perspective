{
 "cells": [
  {
   "cell_type": "code",
   "execution_count": 8,
   "id": "fff74034",
   "metadata": {},
   "outputs": [
    {
     "name": "stdout",
     "output_type": "stream",
     "text": [
      "   age  job  marital  education  default  housing  loan  contact  month  \\\n",
      "0   37    7        2          1        1        2     1        1      6   \n",
      "1   49    8        3          4        2        1     2        1      9   \n",
      "2   50   10        3          3        2        2     1        0      8   \n",
      "\n",
      "   day_of_week  duration  campaign  pdays  previous  poutcome  emp.var.rate  \\\n",
      "0            3       240         1    999         0         1           1.1   \n",
      "1            3      1467         1    999         0         2           1.1   \n",
      "2            1       635         1    999         0         2           1.4   \n",
      "\n",
      "   cons.price.idx  cons.conf.idx  euribor3m  nr.employed  \n",
      "0          92.994          -43.4      4.238       5191.0  \n",
      "1          93.994          -36.4      4.857       5191.0  \n",
      "2          93.918          -42.7      4.962       5228.1  \n",
      "Predicted output: 0\n"
     ]
    }
   ],
   "source": [
    "import numpy as np\n",
    "import pandas as pd\n",
    "from sklearn.model_selection import train_test_split\n",
    "from xgboost import XGBClassifier\n",
    "\n",
    "# Load the dataset (replace 'data.csv' with the actual filename)\n",
    "data = pd.read_csv(r'cleaned_data.csv')\n",
    "\n",
    "# Split the dataset into input features (X) and output feature (y)\n",
    "X = data.iloc[:, :-1]  # Input features (1st 20 columns)\n",
    "y = data.iloc[:, -1]   # Output feature (21st column)\n",
    "\n",
    "# Split the data into training and testing sets\n",
    "X_train, X_test, y_train, y_test = train_test_split(X, y, test_size=0.2, random_state=42)\n",
    "\n",
    "# Train the XGBoost classifier\n",
    "xgb_clf = XGBClassifier()\n",
    "xgb_clf.fit(X_train, y_train)\n",
    "\n",
    "# Function to make predictions based on user input\n",
    "def make_prediction(user_input):\n",
    "    # Convert user input to DataFrame\n",
    "    user_df = pd.DataFrame(user_input)\n",
    "    print(user_df)\n",
    "    # Make prediction\n",
    "    prediction = xgb_clf.predict(user_df)\n",
    "    return prediction[0]\n",
    "\n",
    "# Example user input (replace with user input)\n",
    "user_input = {\n",
    "        \"age\":[37,49,50],\n",
    "        \"job\":[7,8,10],\n",
    "        \"marital\":[2,3,3], \n",
    "        \"education\":[1,4,3], \n",
    "        \"default\":[1,2,2], \n",
    "        \"housing\":[2,1,2], \n",
    "        \"loan\":[1,2,1], \n",
    "        \"contact\":[1,1,0], \n",
    "        \"month\":[6,9,8], \n",
    "        \"day_of_week\":[3,3,1], \n",
    "        \"duration\":[240,1467,635],\n",
    "        \"campaign\":[1,1,1], \n",
    "        \"pdays\":[999,999,999], \n",
    "        \"previous\":[0,0,0], \n",
    "        \"poutcome\":[1,2,2], \n",
    "        \"emp.var.rate\":[1.1,1.1,1.4], \n",
    "        \"cons.price.idx\":[92.994,93.994,93.918], \n",
    "        \"cons.conf.idx\":[-43.4,-36.4,-42.7], \n",
    "        \"euribor3m\":[4.238,4.857,4.962], \n",
    "        \"nr.employed\":[5191,5191,5228.1]\n",
    "}\n",
    "\n",
    "# Make prediction based on user input\n",
    "prediction = make_prediction(user_input)\n",
    "print(\"Predicted output:\", prediction)"
   ]
  },
  {
   "cell_type": "code",
   "execution_count": 5,
   "id": "c7c01a46",
   "metadata": {},
   "outputs": [
    {
     "data": {
      "text/plain": [
       "['xgb.pkl']"
      ]
     },
     "execution_count": 5,
     "metadata": {},
     "output_type": "execute_result"
    }
   ],
   "source": [
    "import joblib\n",
    "joblib.dump(xgb_clf,'xgb.pkl')"
   ]
  }
 ],
 "metadata": {
  "kernelspec": {
   "display_name": "Python 3 (ipykernel)",
   "language": "python",
   "name": "python3"
  },
  "language_info": {
   "codemirror_mode": {
    "name": "ipython",
    "version": 3
   },
   "file_extension": ".py",
   "mimetype": "text/x-python",
   "name": "python",
   "nbconvert_exporter": "python",
   "pygments_lexer": "ipython3",
   "version": "3.11.3"
  }
 },
 "nbformat": 4,
 "nbformat_minor": 5
}
