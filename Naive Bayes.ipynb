{
 "cells": [
  {
   "cell_type": "code",
   "execution_count": 2,
   "id": "4af22380",
   "metadata": {},
   "outputs": [
    {
     "name": "stdout",
     "output_type": "stream",
     "text": [
      "Predicted output: 0\n"
     ]
    }
   ],
   "source": [
    "import numpy as np\n",
    "import pandas as pd\n",
    "from sklearn.model_selection import train_test_split\n",
    "from sklearn.naive_bayes import GaussianNB\n",
    "from sklearn.preprocessing import StandardScaler\n",
    "\n",
    "# Load the dataset (replace 'data.csv' with the actual filename)\n",
    "data = pd.read_csv(r'cleaned_data.csv')\n",
    "\n",
    "# Split the dataset into input features (X) and output feature (y)\n",
    "X = data.iloc[:, :-1]  # Input features (1st 20 columns)\n",
    "y = data.iloc[:, -1]   # Output feature (21st column)\n",
    "\n",
    "# Split the data into training and testing sets\n",
    "X_train, X_test, y_train, y_test = train_test_split(X, y, test_size=0.2, random_state=42)\n",
    "\n",
    "# Scale the features\n",
    "scaler = StandardScaler()\n",
    "X_train_scaled = scaler.fit_transform(X_train)\n",
    "X_test_scaled = scaler.transform(X_test)\n",
    "\n",
    "# Train the Naive Bayes classifier\n",
    "nb_classifier = GaussianNB()\n",
    "nb_classifier.fit(X_train_scaled, y_train)\n",
    "\n",
    "# Function to make predictions based on user input\n",
    "def make_prediction(user_input):\n",
    "    # Convert user input to DataFrame\n",
    "    user_df = pd.DataFrame([user_input], columns=X.columns)\n",
    "    # Scale user input\n",
    "    user_input_scaled = scaler.transform(user_df)\n",
    "    # Make prediction\n",
    "    prediction = nb_classifier.predict(user_input_scaled)\n",
    "    return prediction[0]\n",
    "\n",
    "# Example user input (replace with user input)\n",
    "user_input = [32,7,1,5,2,2,2,1,9,2,245,2,999,0,2,1.1,93.994,-36.4,4.856,5191]\n",
    "\n",
    "# Make prediction based on user input\n",
    "prediction = make_prediction(user_input)\n",
    "print(\"Predicted output:\", prediction)\n"
   ]
  },
  {
   "cell_type": "code",
   "execution_count": 3,
   "id": "fcd52ba8",
   "metadata": {},
   "outputs": [
    {
     "data": {
      "text/plain": [
       "['naivebayes.pkl']"
      ]
     },
     "execution_count": 3,
     "metadata": {},
     "output_type": "execute_result"
    }
   ],
   "source": [
    "import joblib\n",
    "joblib.dump(nb_classifier,'naivebayes.pkl')"
   ]
  }
 ],
 "metadata": {
  "kernelspec": {
   "display_name": "Python 3 (ipykernel)",
   "language": "python",
   "name": "python3"
  },
  "language_info": {
   "codemirror_mode": {
    "name": "ipython",
    "version": 3
   },
   "file_extension": ".py",
   "mimetype": "text/x-python",
   "name": "python",
   "nbconvert_exporter": "python",
   "pygments_lexer": "ipython3",
   "version": "3.11.3"
  }
 },
 "nbformat": 4,
 "nbformat_minor": 5
}
