{
 "cells": [
  {
   "cell_type": "code",
   "execution_count": 2,
   "id": "52b171f2",
   "metadata": {},
   "outputs": [
    {
     "name": "stdout",
     "output_type": "stream",
     "text": [
      "Predicted output: 1\n"
     ]
    }
   ],
   "source": [
    "import numpy as np\n",
    "import pandas as pd\n",
    "from sklearn.model_selection import train_test_split\n",
    "from sklearn.svm import SVC\n",
    "from sklearn.preprocessing import StandardScaler\n",
    "\n",
    "# Load the dataset (replace 'data.csv' with the actual filename)\n",
    "data = pd.read_csv(r'cleaned_data.csv')\n",
    "\n",
    "# Split the dataset into input features (X) and output feature (y)\n",
    "X = data.iloc[:, :-1]  # Input features (1st 20 columns)\n",
    "y = data.iloc[:, -1]   # Output feature (21st column)\n",
    "\n",
    "# Split the data into training and testing sets\n",
    "X_train, X_test, y_train, y_test = train_test_split(X, y, test_size=0.2, random_state=42)\n",
    "\n",
    "# Fit the StandardScaler to the training data\n",
    "scaler = StandardScaler()\n",
    "scaler.fit(X_train)\n",
    "\n",
    "# Custom function to transform data with feature names\n",
    "def transform_with_names(scaler, data, feature_names):\n",
    "    scaled_data = scaler.transform(data)\n",
    "    return pd.DataFrame(scaled_data, columns=feature_names)\n",
    "\n",
    "# Transform the training and testing data with feature names\n",
    "X_train_scaled = transform_with_names(scaler, X_train, X_train.columns)\n",
    "X_test_scaled = transform_with_names(scaler, X_test, X_test.columns)\n",
    "\n",
    "# Train the SVM classifier\n",
    "svm_classifier = SVC()\n",
    "svm_classifier.fit(X_train_scaled, y_train)\n",
    "\n",
    "# Function to make predictions based on user input\n",
    "def make_prediction(user_input):\n",
    "    # Convert user input to DataFrame\n",
    "    user_df = pd.DataFrame([user_input], columns=X.columns)\n",
    "    # Transform user input with feature names\n",
    "    user_input_scaled = transform_with_names(scaler, user_df, X.columns)\n",
    "    # Make prediction\n",
    "    prediction = svm_classifier.predict(user_input_scaled)\n",
    "    return prediction[0]\n",
    "\n",
    "# Example user input (replace with user input)\n",
    "user_input = [31,10,2,6,2,2,2,1,3,1,125,1,999,0,2,-0.1,93.798,-40.4,4.86,5195.8]\n",
    "\n",
    "# Make prediction based on user input\n",
    "prediction = make_prediction(user_input)\n",
    "print(\"Predicted output:\", prediction)\n"
   ]
  },
  {
   "cell_type": "code",
   "execution_count": 3,
   "id": "44bf139b",
   "metadata": {},
   "outputs": [
    {
     "data": {
      "text/plain": [
       "['svm.pkl']"
      ]
     },
     "execution_count": 3,
     "metadata": {},
     "output_type": "execute_result"
    }
   ],
   "source": [
    "import joblib\n",
    "joblib.dump(svm_classifier,'svm.pkl')"
   ]
  }
 ],
 "metadata": {
  "kernelspec": {
   "display_name": "Python 3 (ipykernel)",
   "language": "python",
   "name": "python3"
  },
  "language_info": {
   "codemirror_mode": {
    "name": "ipython",
    "version": 3
   },
   "file_extension": ".py",
   "mimetype": "text/x-python",
   "name": "python",
   "nbconvert_exporter": "python",
   "pygments_lexer": "ipython3",
   "version": "3.11.3"
  }
 },
 "nbformat": 4,
 "nbformat_minor": 5
}
