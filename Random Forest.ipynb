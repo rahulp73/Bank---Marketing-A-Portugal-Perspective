{
 "cells": [
  {
   "cell_type": "code",
   "execution_count": 1,
   "id": "f4e6f232",
   "metadata": {},
   "outputs": [
    {
     "name": "stdout",
     "output_type": "stream",
     "text": [
      "Predicted output: 1\n"
     ]
    }
   ],
   "source": [
    "import numpy as np\n",
    "import pandas as pd\n",
    "from sklearn.model_selection import train_test_split\n",
    "from sklearn.ensemble import RandomForestClassifier\n",
    "\n",
    "# Load the dataset (replace 'data.csv' with the actual filename)\n",
    "data = pd.read_csv(r'cleaned_data.csv')\n",
    "\n",
    "# Split the dataset into input features (X) and output feature (y)\n",
    "X = data.iloc[:, :-1]  # Input features (1st 20 columns)\n",
    "y = data.iloc[:, -1]   # Output feature (21st column)\n",
    "\n",
    "# Split the data into training and testing sets\n",
    "X_train, X_test, y_train, y_test = train_test_split(X, y, test_size=0.2, random_state=42)\n",
    "\n",
    "# Train the Random Forest classifier\n",
    "rf_classifier = RandomForestClassifier()\n",
    "rf_classifier.fit(X_train, y_train)\n",
    "\n",
    "# Function to make predictions based on user input\n",
    "def make_prediction(user_input):\n",
    "    # Convert user input to DataFrame\n",
    "    user_df = pd.DataFrame([user_input], columns=X.columns)\n",
    "    # Make prediction\n",
    "    prediction = rf_classifier.predict(user_df)\n",
    "    return prediction[0]\n",
    "\n",
    "# Example user input (replace with user input)\n",
    "user_input = [45,10,3,5,2,2,2,0,7,1,1293,4,999,0,2,1.4,93.444,-36.1,4.963,5228.1]\n",
    "\n",
    "# Make prediction based on user input\n",
    "prediction = make_prediction(user_input)\n",
    "print(\"Predicted output:\", prediction)\n"
   ]
  },
  {
   "cell_type": "code",
   "execution_count": 2,
   "id": "f9480965",
   "metadata": {},
   "outputs": [
    {
     "data": {
      "text/plain": [
       "['randomforest.pkl']"
      ]
     },
     "execution_count": 2,
     "metadata": {},
     "output_type": "execute_result"
    }
   ],
   "source": [
    "import joblib\n",
    "joblib.dump(rf_classifier,'randomforest.pkl')"
   ]
  }
 ],
 "metadata": {
  "kernelspec": {
   "display_name": "Python 3 (ipykernel)",
   "language": "python",
   "name": "python3"
  },
  "language_info": {
   "codemirror_mode": {
    "name": "ipython",
    "version": 3
   },
   "file_extension": ".py",
   "mimetype": "text/x-python",
   "name": "python",
   "nbconvert_exporter": "python",
   "pygments_lexer": "ipython3",
   "version": "3.11.3"
  }
 },
 "nbformat": 4,
 "nbformat_minor": 5
}
